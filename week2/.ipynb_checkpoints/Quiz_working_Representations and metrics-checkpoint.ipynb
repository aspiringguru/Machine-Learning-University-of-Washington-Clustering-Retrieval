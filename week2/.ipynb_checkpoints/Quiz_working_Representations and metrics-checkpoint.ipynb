{
 "cells": [
  {
   "cell_type": "code",
   "execution_count": 9,
   "metadata": {
    "collapsed": true
   },
   "outputs": [],
   "source": [
    "import numpy as np\n",
    "import math"
   ]
  },
  {
   "cell_type": "code",
   "execution_count": null,
   "metadata": {
    "collapsed": true
   },
   "outputs": [],
   "source": [
    "#quiz Q 1"
   ]
  },
  {
   "cell_type": "code",
   "execution_count": 1,
   "metadata": {
    "collapsed": false
   },
   "outputs": [
    {
     "name": "stdout",
     "output_type": "stream",
     "text": [
      "<type 'list'>\n"
     ]
    }
   ],
   "source": [
    "a=[1,2]\n",
    "b=[3,5]\n",
    "c=[5,4]\n",
    "print type(a)"
   ]
  },
  {
   "cell_type": "code",
   "execution_count": 5,
   "metadata": {
    "collapsed": false
   },
   "outputs": [
    {
     "name": "stdout",
     "output_type": "stream",
     "text": [
      "np.dot(a,b) =  13\n",
      "np.dot(a,c) =  13\n",
      "np.dot(b,c) =  35\n"
     ]
    }
   ],
   "source": [
    "print \"np.dot(a,b) = \", np.dot(a,b)\n",
    "print \"np.dot(a,c) = \", np.dot(a,c)\n",
    "print \"np.dot(b,c) = \", np.dot(b,c)"
   ]
  },
  {
   "cell_type": "code",
   "execution_count": 18,
   "metadata": {
    "collapsed": false
   },
   "outputs": [
    {
     "name": "stdout",
     "output_type": "stream",
     "text": [
      "euclidian distance A-B =  3.60555127546\n",
      "euclidian distance A-C =  4.472135955\n",
      "euclidian distance B-C =  2.2360679775\n"
     ]
    }
   ],
   "source": [
    "#https://docs.scipy.org/doc/numpy/reference/generated/numpy.linalg.norm.html\n",
    "aa = np.array(a)\n",
    "bb = np.array(b)\n",
    "cc = np.array(c)\n",
    "print \"euclidian distance A-B = \", np.linalg.norm(aa-bb)\n",
    "print \"euclidian distance A-C = \", np.linalg.norm(aa-cc)\n",
    "print \"euclidian distance B-C = \", np.linalg.norm(bb-cc)"
   ]
  },
  {
   "cell_type": "code",
   "execution_count": 12,
   "metadata": {
    "collapsed": false
   },
   "outputs": [
    {
     "name": "stdout",
     "output_type": "stream",
     "text": [
      "3.60555127546\n",
      "4.472135955\n",
      "2.2360679775\n"
     ]
    }
   ],
   "source": [
    "print math.sqrt(13)\n",
    "print math.sqrt(20)\n",
    "print math.sqrt(5)"
   ]
  },
  {
   "cell_type": "code",
   "execution_count": 14,
   "metadata": {
    "collapsed": false
   },
   "outputs": [
    {
     "name": "stdout",
     "output_type": "stream",
     "text": [
      "0.972284251712\n"
     ]
    }
   ],
   "source": [
    "from scipy import spatial\n",
    "\n",
    "dataSetI = [3, 45, 7, 2]\n",
    "dataSetII = [2, 54, 13, 15]\n",
    "result = 1 - spatial.distance.cosine(dataSetI, dataSetII)\n",
    "print result"
   ]
  },
  {
   "cell_type": "code",
   "execution_count": 38,
   "metadata": {
    "collapsed": false
   },
   "outputs": [
    {
     "name": "stdout",
     "output_type": "stream",
     "text": [
      "cosine distance (a,b) =  0.003\n",
      "cosine distance (a,c) =  0.092\n",
      "cosine distance (b,c) =  0.063\n"
     ]
    }
   ],
   "source": [
    "print \"cosine distance (a,b) = \", round(spatial.distance.cosine(a, b), 3)\n",
    "print \"cosine distance (a,c) = \", round(spatial.distance.cosine(a, c), 3)\n",
    "print \"cosine distance (b,c) = \", round(spatial.distance.cosine(b, c), 3)"
   ]
  },
  {
   "cell_type": "code",
   "execution_count": 28,
   "metadata": {
    "collapsed": false
   },
   "outputs": [
    {
     "name": "stdout",
     "output_type": "stream",
     "text": [
      "wordList1 =  ['the', 'quick', 'brown', 'fox', 'jumps', 'over', 'the', 'lazy', 'dog']\n",
      "wordList2 =  ['a', 'quick', 'brown', 'dog', 'outpaces', 'a', 'quick', 'fox']\n",
      "the : 2\n",
      "a : 0\n",
      "quick : 1\n",
      "brown : 1\n",
      "fox : 1\n",
      "jumps : 1\n",
      "over : 1\n",
      "lazy : 1\n",
      "dog : 1\n",
      "outpaces : 0\n",
      "wordList1Count= [2, 0, 1, 1, 1, 1, 1, 1, 1, 0]\n",
      "wordList2Count= [0, 2, 2, 1, 1, 0, 0, 0, 1, 1]\n"
     ]
    }
   ],
   "source": [
    "#euclidian distance between two word sets.\n",
    "#print \"euclidian distance A-B = \", np.linalg.norm(aa-bb)\n",
    "sentence1 = \"The quick brown fox jumps over the lazy dog\"\n",
    "sentence2 = \"A quick brown dog outpaces a quick fox\"\n",
    "sentence1 = sentence1.lower()\n",
    "sentence2 = sentence2.lower()\n",
    "\n",
    "wordList1 = sentence1.split()\n",
    "wordList2 = sentence2.split()\n",
    "print \"wordList1 = \", wordList1\n",
    "print \"wordList2 = \", wordList2\n",
    "\n",
    "\n",
    "masterList =[\"the\",\"a\", \"quick\", \"brown\", \"fox\", \"jumps\", \"over\", \"lazy\", \"dog\", \"outpaces\"]\n",
    "wordList1Count = []\n",
    "wordList2Count = []\n",
    "\n",
    "for word in masterList:\n",
    "    print word, \":\", wordList1.count(word)\n",
    "    wordList1Count.append(wordList1.count(word))\n",
    "    wordList2Count.append(wordList2.count(word))\n",
    "print \"wordList1Count=\", wordList1Count\n",
    "print \"wordList2Count=\", wordList2Count"
   ]
  },
  {
   "cell_type": "code",
   "execution_count": 33,
   "metadata": {
    "collapsed": false
   },
   "outputs": [
    {
     "name": "stdout",
     "output_type": "stream",
     "text": [
      "euclidian distance Sentence 1 - Sentence 2 =  3.606\n"
     ]
    }
   ],
   "source": [
    "wordList1CountArray = np.array(wordList1Count)\n",
    "wordList2CountArray = np.array(wordList2Count)\n",
    "print \"euclidian distance Sentence 1 - Sentence 2 = \", round(np.linalg.norm(wordList1CountArray - wordList2CountArray), 3)\n"
   ]
  },
  {
   "cell_type": "code",
   "execution_count": 37,
   "metadata": {
    "collapsed": false
   },
   "outputs": [
    {
     "name": "stdout",
     "output_type": "stream",
     "text": [
      "cosine distance (Sentence 1,Sentence 2) =  0.565\n"
     ]
    }
   ],
   "source": [
    "#quiz Question 4\n",
    "print \"cosine distance (Sentence 1,Sentence 2) = \", round(spatial.distance.cosine(wordList1Count, wordList2Count), 3)"
   ]
  },
  {
   "cell_type": "code",
   "execution_count": null,
   "metadata": {
    "collapsed": true
   },
   "outputs": [],
   "source": []
  }
 ],
 "metadata": {
  "kernelspec": {
   "display_name": "Python 2",
   "language": "python",
   "name": "python2"
  },
  "language_info": {
   "codemirror_mode": {
    "name": "ipython",
    "version": 2
   },
   "file_extension": ".py",
   "mimetype": "text/x-python",
   "name": "python",
   "nbconvert_exporter": "python",
   "pygments_lexer": "ipython2",
   "version": "2.7.11"
  }
 },
 "nbformat": 4,
 "nbformat_minor": 0
}
