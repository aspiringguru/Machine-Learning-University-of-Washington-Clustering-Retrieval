{
 "cells": [
  {
   "cell_type": "code",
   "execution_count": 8,
   "metadata": {
    "collapsed": true
   },
   "outputs": [],
   "source": [
    "import numpy as np"
   ]
  },
  {
   "cell_type": "code",
   "execution_count": 1,
   "metadata": {
    "collapsed": true
   },
   "outputs": [],
   "source": [
    "data = [(0.59, 0.9), (0.89, 0.82), (0.04, 0.69), (0.38, 0.52), (0.66, 0.19), (0.27, 0.72), (0.8, 0.6)]"
   ]
  },
  {
   "cell_type": "code",
   "execution_count": 12,
   "metadata": {
    "collapsed": false
   },
   "outputs": [
    {
     "name": "stdout",
     "output_type": "stream",
     "text": [
      "np.sort(x) =  [ 0.04  0.27  0.38  0.59  0.66  0.8   0.89]\n",
      "np.sort(y) =  [ 0.19  0.52  0.6   0.69  0.72  0.82  0.9 ]\n"
     ]
    }
   ],
   "source": [
    "x = []\n",
    "y = []\n",
    "for d in data:\n",
    "    x.append(d[0])\n",
    "    y.append(d[1])\n",
    "print \"np.sort(x) = \", np.sort(x)\n",
    "print \"np.sort(y) = \", np.sort(y)"
   ]
  },
  {
   "cell_type": "code",
   "execution_count": 9,
   "metadata": {
    "collapsed": false
   },
   "outputs": [
    {
     "name": "stdout",
     "output_type": "stream",
     "text": [
      "0.04\n",
      "0.89\n",
      "0.465\n",
      "0.59\n"
     ]
    }
   ],
   "source": [
    "print min(x)\n",
    "print max(x)\n",
    "print (min(x)+max(x))/2.0\n",
    "print np.median(x)"
   ]
  },
  {
   "cell_type": "code",
   "execution_count": null,
   "metadata": {
    "collapsed": true
   },
   "outputs": [],
   "source": []
  },
  {
   "cell_type": "code",
   "execution_count": null,
   "metadata": {
    "collapsed": true
   },
   "outputs": [],
   "source": [
    "print min(x)\n",
    "print max(x)\n",
    "print (min(x)+max(x))/2.0\n",
    "print np.median(x)"
   ]
  },
  {
   "cell_type": "code",
   "execution_count": 5,
   "metadata": {
    "collapsed": false
   },
   "outputs": [
    {
     "data": {
      "image/png": "[encoded data removed]",
      "text/plain": [
       "<matplotlib.figure.Figure at 0x3f25e10>"
      ]
     },
     "metadata": {},
     "output_type": "display_data"
    }
   ],
   "source": [
    "%matplotlib inline\n",
    "import matplotlib\n",
    "import numpy as np\n",
    "import matplotlib.pyplot as plt\n",
    "#http://matplotlib.org/api/pyplot_summary.html\n",
    "plt.scatter(x, y)\n",
    "plt.axvline(x=0.465)\n",
    "plt.show()"
   ]
  },
  {
   "cell_type": "code",
   "execution_count": null,
   "metadata": {
    "collapsed": true
   },
   "outputs": [],
   "source": []
  }
 ],
 "metadata": {
  "kernelspec": {
   "display_name": "Python 2",
   "language": "python",
   "name": "python2"
  },
  "language_info": {
   "codemirror_mode": {
    "name": "ipython",
    "version": 2
   },
   "file_extension": ".py",
   "mimetype": "text/x-python",
   "name": "python",
   "nbconvert_exporter": "python",
   "pygments_lexer": "ipython2",
   "version": "2.7.11"
  }
 },
 "nbformat": 4,
 "nbformat_minor": 0
}
