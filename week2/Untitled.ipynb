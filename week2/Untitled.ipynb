{
 "cells": [
  {
   "cell_type": "code",
   "execution_count": 22,
   "metadata": {
    "collapsed": false
   },
   "outputs": [
    {
     "name": "stdout",
     "output_type": "stream",
     "text": [
      "<type 'list'> <type 'tuple'> (-1.58, -2.01) -1.58 -2.01\n"
     ]
    }
   ],
   "source": [
    "data = [(-1.58, -2.01), (0.91, 3.98), (-0.73, 4.00), (-4.22, 1.16), (4.19, -2.02), (-0.33, 2.15)]\n",
    "print type(data), type(data[0]), data[0], data[0][0], data[0][1]"
   ]
  },
  {
   "cell_type": "code",
   "execution_count": 23,
   "metadata": {
    "collapsed": false
   },
   "outputs": [
    {
     "name": "stdout",
     "output_type": "stream",
     "text": [
      "[-1.58, 0.91, -0.73, -4.22, 4.19, -0.33]\n",
      "[-2.01, 3.98, 4.0, 1.16, -2.02, 2.15]\n"
     ]
    }
   ],
   "source": [
    "x = []\n",
    "y = []\n",
    "for d in data:\n",
    "    x.append(d[0])\n",
    "    y.append(d[1])\n",
    "print x\n",
    "print y"
   ]
  },
  {
   "cell_type": "code",
   "execution_count": 19,
   "metadata": {
    "collapsed": false
   },
   "outputs": [
    {
     "name": "stdout",
     "output_type": "stream",
     "text": [
      "[-1.58, 0.91, -0.73, -4.22, 4.19, -0.33, 1]\n",
      "-0.33\n",
      "-0.33\n",
      "-0.108571428571\n",
      "[-4.22 -1.58 -0.73 -0.33  0.91  1.    4.19]\n",
      "-0.33\n",
      "-0.33\n",
      "-0.108571428571\n"
     ]
    }
   ],
   "source": [
    "import numpy as np\n",
    "x = [-1.58, 0.91, -0.73, -4.22, 4.19, -0.33, 1]\n",
    "print x\n",
    "print np.median(x, axis=0)\n",
    "print np.median(x)\n",
    "print np.mean(x)\n",
    "x =  np.sort(x)\n",
    "print x\n",
    "print np.median(x, axis=0)\n",
    "print np.median(x)\n",
    "print np.mean(x)\n"
   ]
  },
  {
   "cell_type": "code",
   "execution_count": 20,
   "metadata": {
    "collapsed": false
   },
   "outputs": [
    {
     "data": {
      "text/plain": [
       "5.0"
      ]
     },
     "execution_count": 20,
     "metadata": {},
     "output_type": "execute_result"
    }
   ],
   "source": [
    "np.median([3,5,12])"
   ]
  },
  {
   "cell_type": "code",
   "execution_count": 24,
   "metadata": {
    "collapsed": true
   },
   "outputs": [],
   "source": [
    "%matplotlib inline\n",
    "\n",
    "import matplotlib\n",
    "import numpy as np\n",
    "import matplotlib.pyplot as plt"
   ]
  },
  {
   "cell_type": "code",
   "execution_count": 37,
   "metadata": {
    "collapsed": false
   },
   "outputs": [
    {
     "data": {
      "image/png": "[encoded data removed]",
      "text/plain": [
       "<matplotlib.figure.Figure at 0x8116d68>"
      ]
     },
     "metadata": {},
     "output_type": "display_data"
    }
   ],
   "source": [
    "#http://matplotlib.org/api/pyplot_summary.html\n",
    "plt.scatter(x, y)\n",
    "plt.scatter(-3,1.5, c='red', marker=\"+\")\n",
    "plt.axvline(x=0.53)\n",
    "plt.hlines(1.655, -6, 0.53)\n",
    "plt.show()"
   ]
  },
  {
   "cell_type": "code",
   "execution_count": null,
   "metadata": {
    "collapsed": true
   },
   "outputs": [],
   "source": []
  }
 ],
 "metadata": {
  "kernelspec": {
   "display_name": "Python 2",
   "language": "python",
   "name": "python2"
  },
  "language_info": {
   "codemirror_mode": {
    "name": "ipython",
    "version": 2
   },
   "file_extension": ".py",
   "mimetype": "text/x-python",
   "name": "python",
   "nbconvert_exporter": "python",
   "pygments_lexer": "ipython2",
   "version": "2.7.11"
  }
 },
 "nbformat": 4,
 "nbformat_minor": 0
}
